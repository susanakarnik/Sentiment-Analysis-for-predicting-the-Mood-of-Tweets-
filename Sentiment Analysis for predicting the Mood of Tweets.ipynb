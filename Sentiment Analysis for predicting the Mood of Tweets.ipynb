{
 "cells": [
  {
   "cell_type": "code",
   "execution_count": 1,
   "metadata": {},
   "outputs": [
    {
     "name": "stdout",
     "output_type": "stream",
     "text": [
      "showing info https://raw.githubusercontent.com/nltk/nltk_data/gh-pages/index.xml\n"
     ]
    },
    {
     "data": {
      "text/plain": [
       "True"
      ]
     },
     "execution_count": 1,
     "metadata": {},
     "output_type": "execute_result"
    }
   ],
   "source": [
    "import nltk\n",
    "nltk.download()"
   ]
  },
  {
   "cell_type": "code",
   "execution_count": 2,
   "metadata": {},
   "outputs": [],
   "source": [
    "import random\n",
    "import pickle"
   ]
  },
  {
   "cell_type": "code",
   "execution_count": 3,
   "metadata": {},
   "outputs": [],
   "source": [
    "from nltk.corpus import twitter_samples\n",
    "from nltk.stem import WordNetLemmatizer\n",
    "from nltk.tag import pos_tag\n",
    "from nltk.corpus import stopwords\n",
    "from nltk import NaiveBayesClassifier\n",
    "from nltk import classify"
   ]
  },
  {
   "cell_type": "code",
   "execution_count": 4,
   "metadata": {},
   "outputs": [],
   "source": [
    "def clean_data(token):\n",
    "    return [item for item in token if not item.startswith(\"http\") and not item.startswith(\"@\")]\n",
    "\n",
    "\n",
    "def lemmatization(token):\n",
    "    lemmatizer = WordNetLemmatizer()\n",
    "\n",
    "    result = []\n",
    "    for token, tag in pos_tag(token):\n",
    "        tag = tag[0].lower()\n",
    "        token = token.lower()\n",
    "        if tag in \"nva\":\n",
    "            result.append(lemmatizer.lemmatize(token, pos=tag))\n",
    "        else:\n",
    "            result.append(lemmatizer.lemmatize(token))\n",
    "    return result\n",
    "\n",
    "\n",
    "def remove_stop_words(token, stop_words):\n",
    "    return [item for item in token if item not in stop_words]\n",
    "\n",
    "\n",
    "def transform(token):\n",
    "    result = {}\n",
    "    for item in token:\n",
    "        result[item] = True\n",
    "    return result"
   ]
  },
  {
   "cell_type": "code",
   "execution_count": 5,
   "metadata": {},
   "outputs": [
    {
     "name": "stdout",
     "output_type": "stream",
     "text": [
      "Accuracy is: 0.9976666666666667\n",
      "Most Informative Features\n",
      "                      :( = True           Negati : Positi =   2053.7 : 1.0\n",
      "                  arrive = True           Positi : Negati =     32.1 : 1.0\n",
      "                     sad = True           Negati : Positi =     30.2 : 1.0\n",
      "                follower = True           Positi : Negati =     23.7 : 1.0\n",
      "                     bam = True           Positi : Negati =     20.6 : 1.0\n",
      "                     x15 = True           Negati : Positi =     16.8 : 1.0\n",
      "              appreciate = True           Positi : Negati =     14.5 : 1.0\n",
      "               community = True           Positi : Negati =     14.5 : 1.0\n",
      "                    hurt = True           Negati : Positi =     13.2 : 1.0\n",
      "                    miss = True           Negati : Positi =     12.2 : 1.0\n",
      "None\n"
     ]
    }
   ],
   "source": [
    "def main():\n",
    "    \n",
    "    positive_tweets_tokens = twitter_samples.tokenized('positive_tweets.json')\n",
    "    negative_tweets_tokens = twitter_samples.tokenized('negative_tweets.json')\n",
    "\n",
    "\n",
    "    stop_words = stopwords.words('english')\n",
    "    positive_tweets_tokens_cleaned = [remove_stop_words(lemmatization(clean_data(token)), stop_words) for token in positive_tweets_tokens]\n",
    "    negative_tweets_tokens_cleaned = [remove_stop_words(lemmatization(clean_data(token)), stop_words) for token in negative_tweets_tokens]\n",
    "\n",
    "\n",
    "    positive_tweets_tokens_transformed = [(transform(token), \"Positive\") for token in positive_tweets_tokens_cleaned]\n",
    "    negative_tweets_tokens_transformed = [(transform(token), \"Negative\") for token in negative_tweets_tokens_cleaned]\n",
    "\n",
    "\n",
    "    \n",
    "    dataset = positive_tweets_tokens_transformed + negative_tweets_tokens_transformed\n",
    "    random.shuffle(dataset)\n",
    "\n",
    "    train_data = dataset[:7000]\n",
    "    test_data = dataset[7000:]\n",
    "\n",
    "    \n",
    "    classifier = NaiveBayesClassifier.train(train_data)\n",
    "\n",
    "    \n",
    "    print(\"Accuracy is:\", classify.accuracy(classifier, test_data))\n",
    "    print(classifier.show_most_informative_features(10))\n",
    "\n",
    "    \n",
    "    f = open('my_classifier.pickle', 'wb')\n",
    "    pickle.dump(classifier, f)\n",
    "    f.close()\n",
    "\n",
    "\n",
    "if __name__ == \"__main__\":\n",
    "    main()"
   ]
  },
  {
   "cell_type": "code",
   "execution_count": 6,
   "metadata": {},
   "outputs": [
    {
     "name": "stdout",
     "output_type": "stream",
     "text": [
      "The mood of #python\n",
      " - Positive 351 97.8\n",
      " - Negative 8 2.2\n"
     ]
    }
   ],
   "source": [
    "import pickle\n",
    "import tweepy\n",
    "\n",
    "\n",
    "def get_twitter_api():\n",
    "    \n",
    "    consumer_key = \"uPRgRGfmgoPHJyuitn84v9hfk\"\n",
    "    consumer_secret = \"IyjACTqz6Nn4QgaiBVhaqeTeFSZbbPa405CAb7526ZNddVjpUX\"\n",
    "    access_token = \"949625398249144320-VUEtMbeltQ41giNp5er7IrXBvhtvB3t\"\n",
    "    access_token_secret = \"rIJrXrhZKZaS6OAE5qLwaLPLRg0yUDyn554N8R8d57yog\"\n",
    "\n",
    "    \n",
    "    auth = tweepy.OAuthHandler(consumer_key, consumer_secret)\n",
    "\n",
    "    \n",
    "    auth.set_access_token(access_token, access_token_secret)\n",
    "    api = tweepy.API(auth)\n",
    "    return api\n",
    "\n",
    "\n",
    "def tokenize(tweet):\n",
    "    return clean_data(tweet)\n",
    "\n",
    "\n",
    "\n",
    "def get_classifier(pickle_name):\n",
    "    f = open(pickle_name, 'rb')\n",
    "    classifier = pickle.load(f)\n",
    "    f.close()\n",
    "    return classifier\n",
    "\n",
    "\n",
    "def find_mood(search):\n",
    "    classifier = get_classifier('my_classifier.pickle')\n",
    "\n",
    "    api = get_twitter_api()\n",
    "\n",
    "    stat = {\n",
    "        \"Positive\": 0,\n",
    "        \"Negative\": 0\n",
    "    }\n",
    "    for tweet in tweepy.Cursor(api.search, q=search).items(1000):\n",
    "        custom_tokens = tokenize(tweet.text)\n",
    "\n",
    "        category = classifier.classify(dict([token, True] for token in custom_tokens))\n",
    "        stat[category] += 1\n",
    "\n",
    "    print(\"The mood of\", search)\n",
    "    print(\" - Positive\", stat[\"Positive\"], round(stat[\"Positive\"]*100/(stat[\"Positive\"] + stat[\"Negative\"]), 1))\n",
    "    print(\" - Negative\", stat[\"Negative\"], round(stat[\"Negative\"]*100/(stat[\"Positive\"] + stat[\"Negative\"]), 1))\n",
    "\n",
    "\n",
    "if __name__ == \"__main__\":\n",
    "\n",
    "    find_mood(\"#python\")\n"
   ]
  }
 ],
 "metadata": {
  "kernelspec": {
   "display_name": "Python 3",
   "language": "python",
   "name": "python3"
  },
  "language_info": {
   "codemirror_mode": {
    "name": "ipython",
    "version": 3
   },
   "file_extension": ".py",
   "mimetype": "text/x-python",
   "name": "python",
   "nbconvert_exporter": "python",
   "pygments_lexer": "ipython3",
   "version": "3.8.5"
  }
 },
 "nbformat": 4,
 "nbformat_minor": 4
}
